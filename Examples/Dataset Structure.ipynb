{
 "cells": [
  {
   "cell_type": "markdown",
   "id": "b9f78ba7",
   "metadata": {},
   "source": [
    "# 3DPOP Dataset- Data structure"
   ]
  },
  {
   "cell_type": "code",
   "execution_count": 4,
   "id": "9ddbdad6",
   "metadata": {},
   "outputs": [],
   "source": [
    "DatasetDir = \"\" #directory to dataset"
   ]
  },
  {
   "cell_type": "markdown",
   "id": "d563f5b3",
   "metadata": {},
   "source": [
    "Here, we will describe the dataset structure provided in the 3DPOP dataset in detail, for manual operations and data manipulation. Do remember we provide a 3DPOP reader for basic data aquisition from the dataset, so please refer back to the readme.\n",
    "\n",
    "Download the datset here:"
   ]
  },
  {
   "cell_type": "markdown",
   "id": "9e1472a4",
   "metadata": {},
   "source": [
    "## Overall File structure"
   ]
  },
  {
   "cell_type": "markdown",
   "id": "a5d243a7",
   "metadata": {},
   "source": [
    "The dataset is stored in seperate directories, with ```Markerless``` storing sequences without markers, and ```PigeonXX``` directories storing data for sequences for 1,2,5 and 10 pigeon individuals respectively."
   ]
  },
  {
   "cell_type": "markdown",
   "id": "67c680ae",
   "metadata": {},
   "source": [
    "**Dataset_3DPOP**\n",
    "\n",
    "├── Markerless\n",
    "\n",
    "├── MarkerlessMetadata.csv\n",
    "\n",
    "├── Pigeon01\n",
    "\n",
    "├── Pigeon02\n",
    "\n",
    "├── Pigeon05\n",
    "\n",
    "├── Pigeon10\n",
    "\n",
    "└── Pop3DMetadata.csv\n"
   ]
  },
  {
   "cell_type": "markdown",
   "id": "a2462513",
   "metadata": {},
   "source": [
    "```Pop3DMetadata.csv``` and ```MarkerlessMetadata.csv``` provides meta data for each sequence in the dataset."
   ]
  },
  {
   "cell_type": "code",
   "execution_count": 5,
   "id": "9c26cbe9",
   "metadata": {},
   "outputs": [
    {
     "data": {
      "text/html": [
       "<div>\n",
       "<style scoped>\n",
       "    .dataframe tbody tr th:only-of-type {\n",
       "        vertical-align: middle;\n",
       "    }\n",
       "\n",
       "    .dataframe tbody tr th {\n",
       "        vertical-align: top;\n",
       "    }\n",
       "\n",
       "    .dataframe thead th {\n",
       "        text-align: right;\n",
       "    }\n",
       "</style>\n",
       "<table border=\"1\" class=\"dataframe\">\n",
       "  <thead>\n",
       "    <tr style=\"text-align: right;\">\n",
       "      <th></th>\n",
       "      <th>Sequence</th>\n",
       "      <th>ViconTrial</th>\n",
       "      <th>SonyVideoName</th>\n",
       "      <th>IndividualNum</th>\n",
       "      <th>Date</th>\n",
       "      <th>Subjects</th>\n",
       "    </tr>\n",
       "  </thead>\n",
       "  <tbody>\n",
       "    <tr>\n",
       "      <th>0</th>\n",
       "      <td>1</td>\n",
       "      <td>training_01072022_02</td>\n",
       "      <td>C0003</td>\n",
       "      <td>1</td>\n",
       "      <td>01072022</td>\n",
       "      <td>452_0107</td>\n",
       "    </tr>\n",
       "    <tr>\n",
       "      <th>1</th>\n",
       "      <td>2</td>\n",
       "      <td>training_01072022_03</td>\n",
       "      <td>C0004</td>\n",
       "      <td>2</td>\n",
       "      <td>01072022</td>\n",
       "      <td>452_0107;484_0107</td>\n",
       "    </tr>\n",
       "    <tr>\n",
       "      <th>2</th>\n",
       "      <td>3</td>\n",
       "      <td>training_01072022_04</td>\n",
       "      <td>C0005</td>\n",
       "      <td>1</td>\n",
       "      <td>01072022</td>\n",
       "      <td>391_0107</td>\n",
       "    </tr>\n",
       "    <tr>\n",
       "      <th>3</th>\n",
       "      <td>4</td>\n",
       "      <td>training_01072022_05</td>\n",
       "      <td>C0006</td>\n",
       "      <td>2</td>\n",
       "      <td>01072022</td>\n",
       "      <td>391_0107;473_0107</td>\n",
       "    </tr>\n",
       "    <tr>\n",
       "      <th>4</th>\n",
       "      <td>5</td>\n",
       "      <td>training_01072022_06</td>\n",
       "      <td>C0007</td>\n",
       "      <td>5</td>\n",
       "      <td>01072022</td>\n",
       "      <td>391_0107;473_0107;54_0107;452_0107;484_0107</td>\n",
       "    </tr>\n",
       "  </tbody>\n",
       "</table>\n",
       "</div>"
      ],
      "text/plain": [
       "   Sequence            ViconTrial SonyVideoName  IndividualNum      Date  \\\n",
       "0         1  training_01072022_02         C0003              1  01072022   \n",
       "1         2  training_01072022_03         C0004              2  01072022   \n",
       "2         3  training_01072022_04         C0005              1  01072022   \n",
       "3         4  training_01072022_05         C0006              2  01072022   \n",
       "4         5  training_01072022_06         C0007              5  01072022   \n",
       "\n",
       "                                      Subjects  \n",
       "0                                     452_0107  \n",
       "1                            452_0107;484_0107  \n",
       "2                                     391_0107  \n",
       "3                            391_0107;473_0107  \n",
       "4  391_0107;473_0107;54_0107;452_0107;484_0107  "
      ]
     },
     "execution_count": 5,
     "metadata": {},
     "output_type": "execute_result"
    }
   ],
   "source": [
    "import pandas as pd\n",
    "import os\n",
    "pd.read_csv(os.path.join(DatasetDir, \"Pop3DMetadata.csv\")).head()\n"
   ]
  },
  {
   "cell_type": "markdown",
   "id": "70848a2e",
   "metadata": {},
   "source": [
    "**Sequence** specifies the sequence number, **IndividualNum** specifies the number of individuals in the sequence, and **Subjects** specify the unique subject IDs in each sequence, seperated by \";\". Other columns are from the original data structure, so can be ignored!"
   ]
  },
  {
   "cell_type": "markdown",
   "id": "2d917f6e",
   "metadata": {},
   "source": [
    "## Sequence File Structure"
   ]
  },
  {
   "cell_type": "markdown",
   "id": "fb22f066",
   "metadata": {},
   "source": [
    "Each sequence stores all required data and information is subdirectories. Here are all subdirectories present in each seqeunce, we will use sequence 1 as an example:"
   ]
  },
  {
   "cell_type": "markdown",
   "id": "413a10bd",
   "metadata": {},
   "source": [
    "**Sequence1_n01_01072022**\n",
    "\n",
    "├── Annotation\n",
    "\n",
    "├── CalibrationInfo\n",
    "\n",
    "├── POP3DAP_Data\n",
    "\n",
    "├── Sequence1_n01_01072022-Cam1.mp4\n",
    "\n",
    "├── TrainingSplit\n",
    "\n",
    "└── Videos\n"
   ]
  },
  {
   "cell_type": "markdown",
   "id": "d00b88cc",
   "metadata": {},
   "source": [
    "- **Annotation:** Contains csvs of ground truth annotations for the sequence\n",
    "- **Calibration Info:** Contains pickles of calibration parameters (Extrinsics + Intrinsics)\n",
    "- **POP3DAP_Data:** Data files to run POP3D annotation pipeline, contains raw motion tracking data and object definitions.\n",
    "- **TrainingSplit:** Subdirectory of videos and annotation csv as train/val/test split, in the ratio of 60/30/10. We recommend users to sample images from the corresponding data splits when training models.\n",
    "- **Videos**: Raw videos syncrhonized between all 4 views, and undistorted using intrinsic parameters.\n",
    "- **[SequenceName]-Cam1.mp4:** A sample video for users to visualize the sequence."
   ]
  },
  {
   "cell_type": "markdown",
   "id": "824afa60",
   "metadata": {},
   "source": [
    "## Annotation File Structure"
   ]
  },
  {
   "cell_type": "markdown",
   "id": "139ffa31",
   "metadata": {},
   "source": [
    "All annotations are provide in csv format. Here are the details for how all csvs are structured:"
   ]
  },
  {
   "cell_type": "markdown",
   "id": "b4b61d07",
   "metadata": {},
   "source": [
    "### 2D and 3D keypoint annotation"
   ]
  },
  {
   "cell_type": "code",
   "execution_count": 11,
   "id": "e12c2bf4",
   "metadata": {
    "scrolled": true
   },
   "outputs": [
    {
     "data": {
      "image/png": "[encoded data removed]",
      "text/plain": [
       "<IPython.core.display.Image object>"
      ]
     },
     "execution_count": 11,
     "metadata": {},
     "output_type": "execute_result"
    }
   ],
   "source": [
    "from IPython import display\n",
    "display.Image(\"../Media/Keypoints.png\")"
   ]
  },
  {
   "cell_type": "markdown",
   "id": "cb3e5fbe",
   "metadata": {},
   "source": [
    "Each column starts with the Bird ID (in this case, **452_0107**, followed by the rigid body object the point belongs to (bp: backpack or hd: head), then the keypoint name (beak, nose, leftEye, rightEye, leftShoulder, rightShoulder, topKeel, bottomKeel, tail) and finally the coordinate (x,y,z).\n",
    "\n",
    "If the object name is followed by a number (e.g bp1, bp2, bp3...), these are the coordinates for motion tracking markers attached to the head and backpack of each pigeon."
   ]
  },
  {
   "cell_type": "code",
   "execution_count": 9,
   "id": "9e4830f2",
   "metadata": {
    "scrolled": true
   },
   "outputs": [
    {
     "data": {
      "text/html": [
       "<div>\n",
       "<style scoped>\n",
       "    .dataframe tbody tr th:only-of-type {\n",
       "        vertical-align: middle;\n",
       "    }\n",
       "\n",
       "    .dataframe tbody tr th {\n",
       "        vertical-align: top;\n",
       "    }\n",
       "\n",
       "    .dataframe thead th {\n",
       "        text-align: right;\n",
       "    }\n",
       "</style>\n",
       "<table border=\"1\" class=\"dataframe\">\n",
       "  <thead>\n",
       "    <tr style=\"text-align: right;\">\n",
       "      <th></th>\n",
       "      <th>Unnamed: 0</th>\n",
       "      <th>frame</th>\n",
       "      <th>452_0107_bp1_x</th>\n",
       "      <th>452_0107_bp1_y</th>\n",
       "      <th>452_0107_bp2_x</th>\n",
       "      <th>452_0107_bp2_y</th>\n",
       "      <th>452_0107_bp3_x</th>\n",
       "      <th>452_0107_bp3_y</th>\n",
       "      <th>452_0107_bp4_x</th>\n",
       "      <th>452_0107_bp4_y</th>\n",
       "      <th>...</th>\n",
       "      <th>452_0107_hd4_x</th>\n",
       "      <th>452_0107_hd4_y</th>\n",
       "      <th>452_0107_hd_beak_x</th>\n",
       "      <th>452_0107_hd_beak_y</th>\n",
       "      <th>452_0107_hd_nose_x</th>\n",
       "      <th>452_0107_hd_nose_y</th>\n",
       "      <th>452_0107_hd_leftEye_x</th>\n",
       "      <th>452_0107_hd_leftEye_y</th>\n",
       "      <th>452_0107_hd_rightEye_x</th>\n",
       "      <th>452_0107_hd_rightEye_y</th>\n",
       "    </tr>\n",
       "  </thead>\n",
       "  <tbody>\n",
       "    <tr>\n",
       "      <th>0</th>\n",
       "      <td>0</td>\n",
       "      <td>0</td>\n",
       "      <td>NaN</td>\n",
       "      <td>NaN</td>\n",
       "      <td>3044.443604</td>\n",
       "      <td>5.082176</td>\n",
       "      <td>NaN</td>\n",
       "      <td>NaN</td>\n",
       "      <td>3045.978760</td>\n",
       "      <td>7.307683</td>\n",
       "      <td>...</td>\n",
       "      <td>NaN</td>\n",
       "      <td>NaN</td>\n",
       "      <td>NaN</td>\n",
       "      <td>NaN</td>\n",
       "      <td>NaN</td>\n",
       "      <td>NaN</td>\n",
       "      <td>NaN</td>\n",
       "      <td>NaN</td>\n",
       "      <td>NaN</td>\n",
       "      <td>NaN</td>\n",
       "    </tr>\n",
       "    <tr>\n",
       "      <th>1</th>\n",
       "      <td>1</td>\n",
       "      <td>1</td>\n",
       "      <td>NaN</td>\n",
       "      <td>NaN</td>\n",
       "      <td>3042.823975</td>\n",
       "      <td>7.068341</td>\n",
       "      <td>NaN</td>\n",
       "      <td>NaN</td>\n",
       "      <td>3044.427002</td>\n",
       "      <td>9.242372</td>\n",
       "      <td>...</td>\n",
       "      <td>NaN</td>\n",
       "      <td>NaN</td>\n",
       "      <td>NaN</td>\n",
       "      <td>NaN</td>\n",
       "      <td>NaN</td>\n",
       "      <td>NaN</td>\n",
       "      <td>NaN</td>\n",
       "      <td>NaN</td>\n",
       "      <td>NaN</td>\n",
       "      <td>NaN</td>\n",
       "    </tr>\n",
       "    <tr>\n",
       "      <th>2</th>\n",
       "      <td>2</td>\n",
       "      <td>2</td>\n",
       "      <td>NaN</td>\n",
       "      <td>NaN</td>\n",
       "      <td>3040.582764</td>\n",
       "      <td>7.779658</td>\n",
       "      <td>NaN</td>\n",
       "      <td>NaN</td>\n",
       "      <td>3042.304443</td>\n",
       "      <td>9.610321</td>\n",
       "      <td>...</td>\n",
       "      <td>NaN</td>\n",
       "      <td>NaN</td>\n",
       "      <td>NaN</td>\n",
       "      <td>NaN</td>\n",
       "      <td>NaN</td>\n",
       "      <td>NaN</td>\n",
       "      <td>NaN</td>\n",
       "      <td>NaN</td>\n",
       "      <td>NaN</td>\n",
       "      <td>NaN</td>\n",
       "    </tr>\n",
       "    <tr>\n",
       "      <th>3</th>\n",
       "      <td>3</td>\n",
       "      <td>3</td>\n",
       "      <td>NaN</td>\n",
       "      <td>NaN</td>\n",
       "      <td>3038.882812</td>\n",
       "      <td>7.366797</td>\n",
       "      <td>NaN</td>\n",
       "      <td>NaN</td>\n",
       "      <td>3040.360107</td>\n",
       "      <td>9.067238</td>\n",
       "      <td>...</td>\n",
       "      <td>NaN</td>\n",
       "      <td>NaN</td>\n",
       "      <td>NaN</td>\n",
       "      <td>NaN</td>\n",
       "      <td>NaN</td>\n",
       "      <td>NaN</td>\n",
       "      <td>NaN</td>\n",
       "      <td>NaN</td>\n",
       "      <td>NaN</td>\n",
       "      <td>NaN</td>\n",
       "    </tr>\n",
       "    <tr>\n",
       "      <th>4</th>\n",
       "      <td>4</td>\n",
       "      <td>4</td>\n",
       "      <td>NaN</td>\n",
       "      <td>NaN</td>\n",
       "      <td>3037.311279</td>\n",
       "      <td>7.114006</td>\n",
       "      <td>NaN</td>\n",
       "      <td>NaN</td>\n",
       "      <td>3038.584717</td>\n",
       "      <td>8.628550</td>\n",
       "      <td>...</td>\n",
       "      <td>NaN</td>\n",
       "      <td>NaN</td>\n",
       "      <td>NaN</td>\n",
       "      <td>NaN</td>\n",
       "      <td>NaN</td>\n",
       "      <td>NaN</td>\n",
       "      <td>NaN</td>\n",
       "      <td>NaN</td>\n",
       "      <td>NaN</td>\n",
       "      <td>NaN</td>\n",
       "    </tr>\n",
       "  </tbody>\n",
       "</table>\n",
       "<p>5 rows × 36 columns</p>\n",
       "</div>"
      ],
      "text/plain": [
       "   Unnamed: 0  frame  452_0107_bp1_x  452_0107_bp1_y  452_0107_bp2_x  \\\n",
       "0           0      0             NaN             NaN     3044.443604   \n",
       "1           1      1             NaN             NaN     3042.823975   \n",
       "2           2      2             NaN             NaN     3040.582764   \n",
       "3           3      3             NaN             NaN     3038.882812   \n",
       "4           4      4             NaN             NaN     3037.311279   \n",
       "\n",
       "   452_0107_bp2_y  452_0107_bp3_x  452_0107_bp3_y  452_0107_bp4_x  \\\n",
       "0        5.082176             NaN             NaN     3045.978760   \n",
       "1        7.068341             NaN             NaN     3044.427002   \n",
       "2        7.779658             NaN             NaN     3042.304443   \n",
       "3        7.366797             NaN             NaN     3040.360107   \n",
       "4        7.114006             NaN             NaN     3038.584717   \n",
       "\n",
       "   452_0107_bp4_y  ...  452_0107_hd4_x  452_0107_hd4_y  452_0107_hd_beak_x  \\\n",
       "0        7.307683  ...             NaN             NaN                 NaN   \n",
       "1        9.242372  ...             NaN             NaN                 NaN   \n",
       "2        9.610321  ...             NaN             NaN                 NaN   \n",
       "3        9.067238  ...             NaN             NaN                 NaN   \n",
       "4        8.628550  ...             NaN             NaN                 NaN   \n",
       "\n",
       "   452_0107_hd_beak_y  452_0107_hd_nose_x  452_0107_hd_nose_y  \\\n",
       "0                 NaN                 NaN                 NaN   \n",
       "1                 NaN                 NaN                 NaN   \n",
       "2                 NaN                 NaN                 NaN   \n",
       "3                 NaN                 NaN                 NaN   \n",
       "4                 NaN                 NaN                 NaN   \n",
       "\n",
       "   452_0107_hd_leftEye_x  452_0107_hd_leftEye_y  452_0107_hd_rightEye_x  \\\n",
       "0                    NaN                    NaN                     NaN   \n",
       "1                    NaN                    NaN                     NaN   \n",
       "2                    NaN                    NaN                     NaN   \n",
       "3                    NaN                    NaN                     NaN   \n",
       "4                    NaN                    NaN                     NaN   \n",
       "\n",
       "   452_0107_hd_rightEye_y  \n",
       "0                     NaN  \n",
       "1                     NaN  \n",
       "2                     NaN  \n",
       "3                     NaN  \n",
       "4                     NaN  \n",
       "\n",
       "[5 rows x 36 columns]"
      ]
     },
     "execution_count": 9,
     "metadata": {},
     "output_type": "execute_result"
    }
   ],
   "source": [
    "#Keypoint sample:\n",
    "pd.read_csv(os.path.join(DatasetDir, \"Pigeon01\",\"Sequence1_n01_01072022\",\"Annotation\",\"Sequence1_n01_01072022-Cam1-Keypoint2D.csv\" )).head()"
   ]
  },
  {
   "cell_type": "markdown",
   "id": "f0a3209f",
   "metadata": {},
   "source": [
    "### Bounding box annotation"
   ]
  },
  {
   "cell_type": "markdown",
   "id": "2672dcd7",
   "metadata": {},
   "source": [
    "Bounding box annotation has the same naming convention as the keypoint annotaitons, but instead of x,y,z, the bounding box csvs have x,y,w,h as the final extension. **(x,y)** specifies the coordinates of the top left corner of the bounding box on the 2D image, **w** and **h** specifies the width and height of each bounding box"
   ]
  },
  {
   "cell_type": "code",
   "execution_count": 12,
   "id": "232a28f3",
   "metadata": {
    "scrolled": true
   },
   "outputs": [
    {
     "data": {
      "text/html": [
       "<div>\n",
       "<style scoped>\n",
       "    .dataframe tbody tr th:only-of-type {\n",
       "        vertical-align: middle;\n",
       "    }\n",
       "\n",
       "    .dataframe tbody tr th {\n",
       "        vertical-align: top;\n",
       "    }\n",
       "\n",
       "    .dataframe thead th {\n",
       "        text-align: right;\n",
       "    }\n",
       "</style>\n",
       "<table border=\"1\" class=\"dataframe\">\n",
       "  <thead>\n",
       "    <tr style=\"text-align: right;\">\n",
       "      <th></th>\n",
       "      <th>Unnamed: 0</th>\n",
       "      <th>frame</th>\n",
       "      <th>452_0107_BBox_x</th>\n",
       "      <th>452_0107_BBox_y</th>\n",
       "      <th>452_0107_BBox_w</th>\n",
       "      <th>452_0107_BBox_h</th>\n",
       "    </tr>\n",
       "  </thead>\n",
       "  <tbody>\n",
       "    <tr>\n",
       "      <th>0</th>\n",
       "      <td>0</td>\n",
       "      <td>0</td>\n",
       "      <td>2947.369385</td>\n",
       "      <td>0.0</td>\n",
       "      <td>163.303955</td>\n",
       "      <td>109.641212</td>\n",
       "    </tr>\n",
       "    <tr>\n",
       "      <th>1</th>\n",
       "      <td>1</td>\n",
       "      <td>1</td>\n",
       "      <td>2945.640137</td>\n",
       "      <td>0.0</td>\n",
       "      <td>162.939209</td>\n",
       "      <td>111.278194</td>\n",
       "    </tr>\n",
       "    <tr>\n",
       "      <th>2</th>\n",
       "      <td>2</td>\n",
       "      <td>2</td>\n",
       "      <td>2943.243164</td>\n",
       "      <td>0.0</td>\n",
       "      <td>163.144043</td>\n",
       "      <td>111.676327</td>\n",
       "    </tr>\n",
       "    <tr>\n",
       "      <th>3</th>\n",
       "      <td>3</td>\n",
       "      <td>3</td>\n",
       "      <td>2941.806152</td>\n",
       "      <td>0.0</td>\n",
       "      <td>162.174316</td>\n",
       "      <td>111.141766</td>\n",
       "    </tr>\n",
       "    <tr>\n",
       "      <th>4</th>\n",
       "      <td>4</td>\n",
       "      <td>4</td>\n",
       "      <td>2940.457031</td>\n",
       "      <td>0.0</td>\n",
       "      <td>161.545898</td>\n",
       "      <td>110.862076</td>\n",
       "    </tr>\n",
       "  </tbody>\n",
       "</table>\n",
       "</div>"
      ],
      "text/plain": [
       "   Unnamed: 0  frame  452_0107_BBox_x  452_0107_BBox_y  452_0107_BBox_w  \\\n",
       "0           0      0      2947.369385              0.0       163.303955   \n",
       "1           1      1      2945.640137              0.0       162.939209   \n",
       "2           2      2      2943.243164              0.0       163.144043   \n",
       "3           3      3      2941.806152              0.0       162.174316   \n",
       "4           4      4      2940.457031              0.0       161.545898   \n",
       "\n",
       "   452_0107_BBox_h  \n",
       "0       109.641212  \n",
       "1       111.278194  \n",
       "2       111.676327  \n",
       "3       111.141766  \n",
       "4       110.862076  "
      ]
     },
     "execution_count": 12,
     "metadata": {},
     "output_type": "execute_result"
    }
   ],
   "source": [
    "#BBox sample:\n",
    "pd.read_csv(os.path.join(DatasetDir, \"Pigeon01\",\"Sequence1_n01_01072022\",\"Annotation\",\"Sequence1_n01_01072022-Cam1-BBox.csv\" )).head()"
   ]
  },
  {
   "cell_type": "markdown",
   "id": "ae4d4ede",
   "metadata": {},
   "source": [
    "## Calibration Information"
   ]
  },
  {
   "cell_type": "markdown",
   "id": "be44a9e3",
   "metadata": {},
   "source": [
    "Fianlly, we describe the data structure for the calibration information. Each camera in each sequence has a pickle for extrinsic and intrinsics. All parameters were obtained from the opencv library, please refer to the opencv documentation for details."
   ]
  },
  {
   "cell_type": "markdown",
   "id": "48e5d09d",
   "metadata": {},
   "source": [
    "### Intrinsics "
   ]
  },
  {
   "cell_type": "markdown",
   "id": "16d63174",
   "metadata": {},
   "source": [
    "The intrinsics pickle stores 2 arrays, a 3x3 camera calibration matrix and a 5x1 distortion coefficient matrix."
   ]
  },
  {
   "cell_type": "code",
   "execution_count": 16,
   "id": "821a9ffa",
   "metadata": {},
   "outputs": [
    {
     "name": "stdout",
     "output_type": "stream",
     "text": [
      "[[2.59508672e+03 0.00000000e+00 1.88880841e+03]\n",
      " [0.00000000e+00 2.58421916e+03 1.07006769e+03]\n",
      " [0.00000000e+00 0.00000000e+00 1.00000000e+00]]\n",
      "[[ 0.03526348 -0.06382786 -0.0028523  -0.00257857  0.05049459]]\n"
     ]
    }
   ],
   "source": [
    "import pickle as p\n",
    "cameraMatrix, distCoeffs= p.load(open(os.path.join(DatasetDir,\"Pigeon01\",\"Sequence1_n01_01072022\",\"CalibrationInfo\",\"Sequence1_n01_01072022-Cam1-Intrinsics.p\"),\"rb\"))\n",
    "print(cameraMatrix)\n",
    "print(distCoeffs)"
   ]
  },
  {
   "cell_type": "markdown",
   "id": "60a77dcf",
   "metadata": {},
   "source": [
    "### Extrinsics"
   ]
  },
  {
   "cell_type": "markdown",
   "id": "c1ab5b57",
   "metadata": {},
   "source": [
    "The extrinsics pickle stores the 3x1 rotation matrix and 3x1 translation matrix to tranform points from the world coordinate system to the camera coordinate system. The 3x1 rotation matrix can be converted to a 3x3 rotation matrix using the opencv function ```cv2.Rodrigues```"
   ]
  },
  {
   "cell_type": "code",
   "execution_count": 18,
   "id": "f54c1d1e",
   "metadata": {},
   "outputs": [
    {
     "name": "stdout",
     "output_type": "stream",
     "text": [
      "[[ 2.07925862]\n",
      " [ 0.62658516]\n",
      " [-0.37314189]]\n",
      "[[-112.5282086 ]\n",
      " [-392.20386751]\n",
      " [3475.90338056]]\n"
     ]
    }
   ],
   "source": [
    "rvec, tvec= p.load(open(os.path.join(DatasetDir,\"Pigeon01\",\"Sequence1_n01_01072022\",\"CalibrationInfo\",\"Sequence1_n01_01072022-Cam1-Extrinsics.p\"),\"rb\"))\n",
    "print(rvec)\n",
    "print(tvec)"
   ]
  },
  {
   "cell_type": "markdown",
   "id": "80b365fc",
   "metadata": {},
   "source": [
    "## Contact"
   ]
  },
  {
   "cell_type": "markdown",
   "id": "2d787a4f",
   "metadata": {},
   "source": [
    "This is all! If you have any questions on data loading or accessing the dataset, please dont hestiate to contact Alex Chan: \n",
    "\n",
    "Email: hoi-hang.chan [at] uni-konstanz.de\n",
    "\n"
   ]
  }
 ],
 "metadata": {
  "kernelspec": {
   "display_name": "Python 3 (ipykernel)",
   "language": "python",
   "name": "python3"
  },
  "language_info": {
   "codemirror_mode": {
    "name": "ipython",
    "version": 3
   },
   "file_extension": ".py",
   "mimetype": "text/x-python",
   "name": "python",
   "nbconvert_exporter": "python",
   "pygments_lexer": "ipython3",
   "version": "3.10.4"
  }
 },
 "nbformat": 4,
 "nbformat_minor": 5
}
